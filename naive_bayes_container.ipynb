{
 "cells": [
  {
   "cell_type": "code",
   "execution_count": 8,
   "metadata": {},
   "outputs": [
    {
     "name": "stdout",
     "output_type": "stream",
     "text": [
      "Login Succeeded\n",
      "The push refers to a repository [328115522647.dkr.ecr.us-east-1.amazonaws.com/sklearn]\n",
      "b0b10e843dee: Preparing\n",
      "cc4edab414c8: Preparing\n",
      "035205ca1db6: Preparing\n",
      "e2f5d0e1c167: Preparing\n",
      "6dc84ce2c971: Preparing\n",
      "2f5b0990636a: Preparing\n",
      "c9748fbf541d: Preparing\n",
      "b3968bc26fbd: Preparing\n",
      "aa4e47c45116: Preparing\n",
      "788ce2310e2f: Preparing\n",
      "b3968bc26fbd: Waiting\n",
      "aa4e47c45116: Waiting\n",
      "2f5b0990636a: Waiting\n",
      "c9748fbf541d: Waiting\n",
      "6dc84ce2c971: Layer already exists\n",
      "035205ca1db6: Layer already exists\n",
      "b0b10e843dee: Layer already exists\n",
      "e2f5d0e1c167: Layer already exists\n",
      "cc4edab414c8: Layer already exists\n",
      "2f5b0990636a: Layer already exists\n",
      "c9748fbf541d: Layer already exists\n",
      "b3968bc26fbd: Layer already exists\n",
      "788ce2310e2f: Layer already exists\n",
      "aa4e47c45116: Layer already exists\n",
      "naive_bayes: digest: sha256:225fb152c2cd35481f7bd42a845d4f9affec97064bd5588d9cabeef08fad85fb size: 2411\n"
     ]
    },
    {
     "name": "stderr",
     "output_type": "stream",
     "text": [
      "WARNING! Using --password via the CLI is insecure. Use --password-stdin.\n"
     ]
    }
   ],
   "source": [
    "%%sh\n",
    "\n",
    "# The name of our algorithm\n",
    "repository=sklearn\n",
    "tag=naive_bayes\n",
    "algorithm_name=naive_bayes\n",
    "#cd container\n",
    "\n",
    "#chmod +x decision_trees/train\n",
    "#chmod +x decision_trees/serve\n",
    "\n",
    "account=$(aws sts get-caller-identity --query Account --output text)\n",
    "\n",
    "# Get the region defined in the current configuration (default to us-west-2 if none defined)\n",
    "region=$(aws configure get region)\n",
    "region=${region:-us-west-2}\n",
    "\n",
    "fullname=\"${account}.dkr.ecr.${region}.amazonaws.com/${repository}:${tag}\"\n",
    "\n",
    "# If the repository doesn't exist in ECR, create it.\n",
    "\n",
    "aws ecr describe-repositories --repository-names \"${repository}\" > /dev/null 2>&1\n",
    "\n",
    "if [ $? -ne 0 ]\n",
    "then\n",
    "    aws ecr create-repository --repository-name \"${repository}\" > /dev/null\n",
    "fi\n",
    "\n",
    "# Get the login command from ECR and execute it directly\n",
    "$(aws ecr get-login --region ${region} --no-include-email)\n",
    "\n",
    "# Build the docker image locally with the image name and then push it to ECR\n",
    "# with the full name.\n",
    "\n",
    "# On a SageMaker Notebook Instance, the docker daemon may need to be restarted in order\n",
    "# to detect your network configuration correctly.  (This is a known issue.)\n",
    "if [ -d \"/home/ec2-user/SageMaker\" ]; then\n",
    "  sudo service docker restart\n",
    "fi\n",
    "\n",
    "#docker build  -t ${algorithm_name} .\n",
    "docker tag ${algorithm_name} ${fullname}\n",
    "\n",
    "docker push ${fullname}"
   ]
  },
  {
   "cell_type": "code",
   "execution_count": 4,
   "metadata": {},
   "outputs": [
    {
     "name": "stdout",
     "output_type": "stream",
     "text": [
      "REPOSITORY                                             TAG                 IMAGE ID            CREATED             SIZE\n",
      "naive_bayes                                            latest              3f6530187cec        2 days ago          1.1GB\n",
      "karan4080/sklearn                                      latest              7aaa4a63a989        2 days ago          1.1GB\n",
      "karan4080/sklearn                                      <none>              1f68307c4f27        2 days ago          1.1GB\n",
      "karan4080/sklearn_ubuntu                               latest              743b43c60a32        3 days ago          991MB\n",
      "328115522647.dkr.ecr.us-east-1.amazonaws.com/sklearn   ubuntu              20c44cd7596f        2 weeks ago         123MB\n",
      "ubuntu                                                 latest              20c44cd7596f        2 weeks ago         123MB\n"
     ]
    }
   ],
   "source": [
    "%%sh\n",
    "docker images"
   ]
  },
  {
   "cell_type": "code",
   "execution_count": 11,
   "metadata": {},
   "outputs": [
    {
     "ename": "ValueError",
     "evalue": "The current AWS identity is not a role: arn:aws:iam::328115522647:user/KaranNadagoudar, therefore it cannot be used as a SageMaker execution role",
     "output_type": "error",
     "traceback": [
      "\u001b[0;31m---------------------------------------------------------------------------\u001b[0m",
      "\u001b[0;31mValueError\u001b[0m                                Traceback (most recent call last)",
      "\u001b[0;32m<ipython-input-11-9d942eba58c5>\u001b[0m in \u001b[0;36m<module>\u001b[0;34m()\u001b[0m\n\u001b[1;32m     10\u001b[0m \u001b[0;32mfrom\u001b[0m \u001b[0msagemaker\u001b[0m \u001b[0;32mimport\u001b[0m \u001b[0mget_execution_role\u001b[0m\u001b[0;34m\u001b[0m\u001b[0m\n\u001b[1;32m     11\u001b[0m \u001b[0;34m\u001b[0m\u001b[0m\n\u001b[0;32m---> 12\u001b[0;31m \u001b[0mrole\u001b[0m \u001b[0;34m=\u001b[0m \u001b[0mget_execution_role\u001b[0m\u001b[0;34m(\u001b[0m\u001b[0;34m)\u001b[0m\u001b[0;34m\u001b[0m\u001b[0m\n\u001b[0m",
      "\u001b[0;32m/usr/local/lib/python3.5/dist-packages/sagemaker/session.py\u001b[0m in \u001b[0;36mget_execution_role\u001b[0;34m(sagemaker_session)\u001b[0m\n\u001b[1;32m    735\u001b[0m         \u001b[0;32mreturn\u001b[0m \u001b[0marn\u001b[0m\u001b[0;34m\u001b[0m\u001b[0m\n\u001b[1;32m    736\u001b[0m     \u001b[0mmessage\u001b[0m \u001b[0;34m=\u001b[0m \u001b[0;34m'The current AWS identity is not a role: {}, therefore it cannot be used as a SageMaker execution role'\u001b[0m\u001b[0;34m\u001b[0m\u001b[0m\n\u001b[0;32m--> 737\u001b[0;31m     \u001b[0;32mraise\u001b[0m \u001b[0mValueError\u001b[0m\u001b[0;34m(\u001b[0m\u001b[0mmessage\u001b[0m\u001b[0;34m.\u001b[0m\u001b[0mformat\u001b[0m\u001b[0;34m(\u001b[0m\u001b[0marn\u001b[0m\u001b[0;34m)\u001b[0m\u001b[0;34m)\u001b[0m\u001b[0;34m\u001b[0m\u001b[0m\n\u001b[0m\u001b[1;32m    738\u001b[0m \u001b[0;34m\u001b[0m\u001b[0m\n\u001b[1;32m    739\u001b[0m \u001b[0;34m\u001b[0m\u001b[0m\n",
      "\u001b[0;31mValueError\u001b[0m: The current AWS identity is not a role: arn:aws:iam::328115522647:user/KaranNadagoudar, therefore it cannot be used as a SageMaker execution role"
     ]
    }
   ],
   "source": [
    "prefix = 'scikit-byo-iris'\n",
    "\n",
    "# Define IAM role\n",
    "import boto3\n",
    "import re\n",
    "\n",
    "import os\n",
    "import numpy as np\n",
    "import pandas as pd\n",
    "from sagemaker import get_execution_role\n",
    "\n",
    "role = get_execution_role()"
   ]
  },
  {
   "cell_type": "code",
   "execution_count": null,
   "metadata": {
    "collapsed": true
   },
   "outputs": [],
   "source": []
  }
 ],
 "metadata": {
  "kernelspec": {
   "display_name": "Python 3",
   "language": "python",
   "name": "python3"
  },
  "language_info": {
   "codemirror_mode": {
    "name": "ipython",
    "version": 3
   },
   "file_extension": ".py",
   "mimetype": "text/x-python",
   "name": "python",
   "nbconvert_exporter": "python",
   "pygments_lexer": "ipython3",
   "version": "3.5.2"
  }
 },
 "nbformat": 4,
 "nbformat_minor": 2
}
